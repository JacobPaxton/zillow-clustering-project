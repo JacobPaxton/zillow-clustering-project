{
 "cells": [
  {
   "cell_type": "code",
   "execution_count": 1,
   "id": "c618cf50",
   "metadata": {},
   "outputs": [],
   "source": [
    "### Imports ###\n",
    "import warnings\n",
    "warnings.filterwarnings('ignore')\n",
    "\n",
    "import pandas as pd\n",
    "\n",
    "import acquire\n",
    "import wrangle"
   ]
  },
  {
   "cell_type": "markdown",
   "id": "c3e4caaa",
   "metadata": {},
   "source": [
    "# Acquire"
   ]
  },
  {
   "cell_type": "code",
   "execution_count": 2,
   "id": "4bc9ee89",
   "metadata": {},
   "outputs": [],
   "source": [
    "# Commented Out Reason: acquire.py accomodates this now, data acquired later in notebook\n",
    "# Function: acquire.pull_clustering_zillow()\n",
    "\n",
    "# Acquire Zillow data\n",
    "# df = acquire.pull_clustering_zillow()\n",
    "# df.head(3)"
   ]
  },
  {
   "cell_type": "code",
   "execution_count": 3,
   "id": "34736bab",
   "metadata": {},
   "outputs": [],
   "source": [
    "# Commented Out Reason: Filtered query to 'Single Family Residential' in acquire.py\n",
    "\n",
    "# ### Checking if bringing more than Single Family Residential is worth it ###\n",
    "# print(\"Original:\", len(df))\n",
    "# print(\"Test:\", len(df[(df.propertylandusedesc == 'Single Family Residential') | \n",
    "#                       (df.propertylandusedesc == 'Mobile Home') | \n",
    "#                       (df.propertylandusedesc == 'Manufactured, Modular, Prefabricated Homes') | \n",
    "#                       (df.architecturalstyledesc == 'Bungalow') | \n",
    "#                       (df.architecturalstyledesc == 'Ranch/Rambler')]))\n",
    "# print(\"Old:\", len(df[(df.propertylandusedesc == 'Single Family Residential')]))"
   ]
  },
  {
   "cell_type": "markdown",
   "id": "b57ae484",
   "metadata": {},
   "source": [
    "I'm going to leave the options out, I don't really care about a less-than 1% increase in observations."
   ]
  },
  {
   "cell_type": "code",
   "execution_count": 4,
   "id": "59858732",
   "metadata": {},
   "outputs": [],
   "source": [
    "# Commented Out Reason: Filtered query to 'Single Family Residential' in acquire.py\n",
    "\n",
    "# ### Filtering to Single Family Residential ###\n",
    "# df = df[df.propertylandusedesc == 'Single Family Residential']\n",
    "# df.head(3)"
   ]
  },
  {
   "cell_type": "code",
   "execution_count": 5,
   "id": "2b54cf3e",
   "metadata": {},
   "outputs": [],
   "source": [
    "# Commented Out Reason: acquire.py accomodates this now\n",
    "\n",
    "# ### Begin identifying columns to keep for analysis or drop ###\n",
    "# print(\"Null Value Percentages By Column \\n\")\n",
    "# for col in df.columns:\n",
    "#     percentage = (df[col].isna().sum() / len(df)) * 100\n",
    "#     print(col + \": \" + str(round(percentage, 2)) + \"%\")"
   ]
  },
  {
   "cell_type": "markdown",
   "id": "e1618268",
   "metadata": {},
   "source": [
    "**Candidates to drop (high null count):**\n",
    "typeconstructiontypeid: 99.85%, storytypeid: 99.91%, buildingclasstypeid: 100.0%, architecturalstyletypeid: 99.87%, airconditioningtypeid: 73.98%, basementsqft: 99.91%, decktypeid: 99.26%, finishedfloor1squarefeet: 91.65%, finishedsquarefeet13: 100.0%, finishedsquarefeet15: 100.0%, finishedsquarefeet50: 91.65%, finishedsquarefeet6: 99.68%, fireplacecnt: 86.18%, garagecarcnt: 65.63%, garagetotalsqft: 65.63%, hashottuborspa: 97.11%, poolcnt: 78.83%, poolsizesum: 98.35%, pooltypeid10: 99.15%, pooltypeid2: 97.95%, pooltypeid7: 80.91%, regionidneighborhood: 63.72%, threequarterbathnbr: 87.16%, yardbuildingsqft17: 96.3%, yardbuildingsqft26: 99.88%, numberofstories: 72.22%, fireplaceflag: 99.85%, taxdelinquencyflag: 96.05%, taxdelinquencyyear: 96.05%, airconditioningdesc: 73.98%, architecturalstyledesc: 99.87%, buildingclassdesc: 100.0%, storydesc: 99.91%, typeconstructiondesc: 99.85%\n",
    "\n",
    "**Candidates to investigate after MVP (moderate null count):**\n",
    "heatingorsystemtypeid: 35.3%, buildingqualitytypeid: 35.67%, propertyzoningdesc: 35.47%, unitcnt: 35.47%, heatingorsystemdesc: 35.3%\n",
    "\n",
    "\n",
    "**Candidates to keep in MVP (low null count):**\n",
    "parcelid: 0.0%, transactiondate: 0.0%, propertylandusetypeid: 0.0%, bathroomcnt: 0.0%, bedroomcnt: 0.0%, calculatedbathnbr: 0.26%, calculatedfinishedsquarefeet: 0.15%, finishedsquarefeet12: 0.47%, fips: 0.0%, fullbathcnt: 0.26%, latitude: 0.0%, longitude: 0.0%, lotsizesquarefeet: 0.7%, propertycountylandusecode: 0.0%, rawcensustractandblock: 0.0%, regionidcity: 1.98%, regionidcounty: 0.0%, regionidzip: 0.05%, roomcnt: 0.0%, yearbuilt: 0.22%, structuretaxvaluedollarcnt: 0.16%, taxvaluedollarcnt: 0.0%, assessmentyear: 0.0%, landtaxvaluedollarcnt: 0.0%, taxamount: 0.01%, censustractandblock: 0.23%, logerror: 0.0%, propertylandusedesc: 0.0%, property_id: 0.0%, transaction_id: 0.0%"
   ]
  },
  {
   "cell_type": "code",
   "execution_count": 6,
   "id": "bdd47400",
   "metadata": {},
   "outputs": [],
   "source": [
    "# Commented Out Reason: acquire.py accomodates this now\n",
    "\n",
    "# df = df.drop(columns=['typeconstructiontypeid', 'storytypeid', 'buildingclasstypeid', \n",
    "#                       'architecturalstyletypeid', 'airconditioningtypeid', 'basementsqft', 'decktypeid', \n",
    "#                       'finishedfloor1squarefeet', 'finishedsquarefeet13', 'finishedsquarefeet15', \n",
    "#                       'finishedsquarefeet50', 'finishedsquarefeet6', 'fireplacecnt', 'garagecarcnt', \n",
    "#                       'garagetotalsqft', 'hashottuborspa', 'poolcnt', 'poolsizesum', 'pooltypeid10', \n",
    "#                       'pooltypeid2', 'pooltypeid7', 'regionidneighborhood', 'threequarterbathnbr', \n",
    "#                       'yardbuildingsqft17', 'yardbuildingsqft26', 'numberofstories', 'fireplaceflag', \n",
    "#                       'taxdelinquencyflag', 'taxdelinquencyyear', 'airconditioningdesc', 'architecturalstyledesc', \n",
    "#                       'buildingclassdesc', 'storydesc', 'typeconstructiondesc'])\n",
    "# df.head(3)"
   ]
  },
  {
   "cell_type": "code",
   "execution_count": 7,
   "id": "cba4ff13",
   "metadata": {},
   "outputs": [],
   "source": [
    "# Commented Out Reason: acquire.py accomodates this now\n",
    "\n",
    "# df = df.drop(columns = ['heatingorsystemtypeid', 'buildingqualitytypeid', 'propertyzoningdesc', \n",
    "#                         'unitcnt', 'heatingorsystemdesc'])\n",
    "# df.head(3)"
   ]
  },
  {
   "cell_type": "markdown",
   "id": "683725f4",
   "metadata": {},
   "source": [
    "**Candidates to keep:**\n",
    "parcelid\n",
    "propertyid\n",
    "transactionid\n",
    "transactiondate\n",
    "propertylandusetypeid\n",
    "bathroomcnt\n",
    "bedroomcnt\n",
    "calculatedfinishedsquarefeet\n",
    "latitude\n",
    "longitude\n",
    "lotsizesquarefeet\n",
    "propertycountylandusecode\n",
    "regionidcity\n",
    "regionidcounty\n",
    "regionidzip\n",
    "roomcnt\n",
    "yearbuilt\n",
    "structuretaxvaluedollarcnt\n",
    "landtaxvaluedollarcnt\n",
    "taxvaluedollarcnt\n",
    "assessmentyear\n",
    "taxamount\n",
    "logerror\n",
    "propertylandusetypeid\n",
    "calculatedbathnbr\n",
    "finishedsquarefeet12\n",
    "fullbathcnt\n",
    "\n",
    "**Drop because I'm not interested in investigating it:**\n",
    "assessmentyear\n",
    "rawcensustractandblock\n",
    "censustractandblock\n",
    "propertylandusedesc\n",
    "propertylandusetypeid"
   ]
  },
  {
   "cell_type": "code",
   "execution_count": 8,
   "id": "7ba4d47e",
   "metadata": {},
   "outputs": [],
   "source": [
    "# Commented Out Reason: acquire.py accomodates this now\n",
    "\n",
    "# df = df.drop(columns=['assessmentyear', 'rawcensustractandblock', 'censustractandblock', \n",
    "#                       'propertylandusedesc', 'propertylandusetypeid'])\n",
    "# df.head(3)"
   ]
  },
  {
   "cell_type": "code",
   "execution_count": 9,
   "id": "b87801ea",
   "metadata": {},
   "outputs": [],
   "source": [
    "# Commented Out Reason: acquire.py accomodates this now\n",
    "\n",
    "# df.columns"
   ]
  },
  {
   "cell_type": "markdown",
   "id": "0ed61638",
   "metadata": {},
   "source": [
    "**Groupings to break out after MVP:**\n",
    "- Parcel info: 'propertycountylandusecode', 'parcelid', 'yearbuilt', 'property_id', 'transaction_id', 'transactiondate', 'taxamount'\n",
    "- Locality: 'fips', 'regionidcity', 'regionidcounty', 'regionidzip'\n",
    "- Home/Lot value: 'taxvaluedollarcnt', 'structuretaxvaluedollarcnt', 'landtaxvaluedollarcnt'\n",
    "- Size: 'calculatedfinishedsquarefeet', 'lotsizesquarefeet', 'finishedsquarefeet12'\n",
    "- Rooms: 'bathroomcnt', 'bedroomcnt', 'calculatedbathnbr', 'fullbathcnt', 'roomcnt'\n",
    "\n",
    "**Columns to use immediately:**\n",
    "'parcelid', 'fips', 'latitude', 'longitude', 'taxvaluedollarcnt', 'logerror', 'bathroomcnt', 'bedroomcnt', 'calculatedfinishedsquarefeet', "
   ]
  },
  {
   "cell_type": "code",
   "execution_count": 10,
   "id": "05d042d2",
   "metadata": {},
   "outputs": [],
   "source": [
    "# Commented Out Reason: acquire.py accomodates this now\n",
    "\n",
    "# col_list = ['parcelid', 'fips', 'latitude', 'longitude', \n",
    "#             'taxvaluedollarcnt', 'logerror', \n",
    "#             'bathroomcnt', 'bedroomcnt', 'calculatedfinishedsquarefeet']\n",
    "\n",
    "# df = df[col_list]\n",
    "# df.head(3)"
   ]
  },
  {
   "cell_type": "markdown",
   "id": "1a958240",
   "metadata": {},
   "source": [
    "# Prepare - MVP"
   ]
  },
  {
   "cell_type": "code",
   "execution_count": 11,
   "id": "21ca1d80",
   "metadata": {
    "scrolled": true
   },
   "outputs": [],
   "source": [
    "# Commented Out Reason: wrangle.py accomodates this now\n",
    "### Acquire for MVP ###\n",
    "# df = acquire.MVP_pull_clustering_zillow()\n",
    "# df.head(3)"
   ]
  },
  {
   "cell_type": "code",
   "execution_count": 12,
   "id": "0f15fbb0",
   "metadata": {},
   "outputs": [],
   "source": [
    "# Commented Out Reason: Nulls handled in wrangle.py\n",
    "\n",
    "# print('Observations:', len(df), '\\n')\n",
    "# print('Nulls:\\n', df.isna().sum())"
   ]
  },
  {
   "cell_type": "code",
   "execution_count": 13,
   "id": "774b9dd0",
   "metadata": {},
   "outputs": [],
   "source": [
    "# Commented Out Reason: Nulls handled in wrangle.py\n",
    "\n",
    "# df = df.dropna()\n",
    "# df.head(3)"
   ]
  },
  {
   "cell_type": "code",
   "execution_count": 14,
   "id": "a99dfe87",
   "metadata": {},
   "outputs": [],
   "source": [
    "# Commented Out Reason: Dtypes handled in wrangle.py\n",
    "\n",
    "# df['parcelid'] = df.parcelid.astype('str')\n",
    "# df['fips'] = df.fips.astype('int').astype('str')\n",
    "# df['latitude'] = df.latitude.astype('int')\n",
    "# df['longitude'] = df.longitude.astype('int')\n",
    "# df['taxvaluedollarcnt'] = df.taxvaluedollarcnt.astype('int')\n",
    "# df['calculatedfinishedsquarefeet'] = df.calculatedfinishedsquarefeet.astype('int')\n",
    "# df.head(3)"
   ]
  },
  {
   "cell_type": "markdown",
   "id": "2b2200b4",
   "metadata": {},
   "source": [
    "# Explore - MVP"
   ]
  },
  {
   "cell_type": "code",
   "execution_count": 15,
   "id": "c6b27a1f",
   "metadata": {},
   "outputs": [],
   "source": [
    "df, X_train_exp, X_train, y_train, X_validate, y_validate, X_test, y_test = wrangle.wrangle_zillow_MVP()"
   ]
  },
  {
   "cell_type": "code",
   "execution_count": 16,
   "id": "790c25ec",
   "metadata": {},
   "outputs": [
    {
     "data": {
      "text/html": [
       "<div>\n",
       "<style scoped>\n",
       "    .dataframe tbody tr th:only-of-type {\n",
       "        vertical-align: middle;\n",
       "    }\n",
       "\n",
       "    .dataframe tbody tr th {\n",
       "        vertical-align: top;\n",
       "    }\n",
       "\n",
       "    .dataframe thead th {\n",
       "        text-align: right;\n",
       "    }\n",
       "</style>\n",
       "<table border=\"1\" class=\"dataframe\">\n",
       "  <thead>\n",
       "    <tr style=\"text-align: right;\">\n",
       "      <th></th>\n",
       "      <th>parcelid</th>\n",
       "      <th>fips</th>\n",
       "      <th>latitude</th>\n",
       "      <th>longitude</th>\n",
       "      <th>taxvaluedollarcnt</th>\n",
       "      <th>bathroomcnt</th>\n",
       "      <th>bedroomcnt</th>\n",
       "      <th>calculatedfinishedsquarefeet</th>\n",
       "      <th>worth_scaled</th>\n",
       "      <th>baths_scaled</th>\n",
       "      <th>beds_scaled</th>\n",
       "      <th>finishedarea_scaled</th>\n",
       "    </tr>\n",
       "  </thead>\n",
       "  <tbody>\n",
       "    <tr>\n",
       "      <th>9816</th>\n",
       "      <td>14433972</td>\n",
       "      <td>6059</td>\n",
       "      <td>33494840</td>\n",
       "      <td>-117693964</td>\n",
       "      <td>1032894</td>\n",
       "      <td>3.5</td>\n",
       "      <td>3.0</td>\n",
       "      <td>2841</td>\n",
       "      <td>2.545324</td>\n",
       "      <td>1.926880</td>\n",
       "      <td>-0.261993</td>\n",
       "      <td>1.894494</td>\n",
       "    </tr>\n",
       "    <tr>\n",
       "      <th>40848</th>\n",
       "      <td>14037584</td>\n",
       "      <td>6059</td>\n",
       "      <td>33742714</td>\n",
       "      <td>-118017115</td>\n",
       "      <td>59427</td>\n",
       "      <td>2.0</td>\n",
       "      <td>4.0</td>\n",
       "      <td>1182</td>\n",
       "      <td>-1.244041</td>\n",
       "      <td>-0.133840</td>\n",
       "      <td>1.008879</td>\n",
       "      <td>-0.854941</td>\n",
       "    </tr>\n",
       "    <tr>\n",
       "      <th>38048</th>\n",
       "      <td>11693178</td>\n",
       "      <td>6037</td>\n",
       "      <td>33992973</td>\n",
       "      <td>-118287389</td>\n",
       "      <td>238563</td>\n",
       "      <td>1.0</td>\n",
       "      <td>3.0</td>\n",
       "      <td>2628</td>\n",
       "      <td>-0.546727</td>\n",
       "      <td>-1.507654</td>\n",
       "      <td>-0.261993</td>\n",
       "      <td>1.541492</td>\n",
       "    </tr>\n",
       "  </tbody>\n",
       "</table>\n",
       "</div>"
      ],
      "text/plain": [
       "       parcelid  fips  latitude  longitude  taxvaluedollarcnt  bathroomcnt  \\\n",
       "9816   14433972  6059  33494840 -117693964            1032894          3.5   \n",
       "40848  14037584  6059  33742714 -118017115              59427          2.0   \n",
       "38048  11693178  6037  33992973 -118287389             238563          1.0   \n",
       "\n",
       "       bedroomcnt  calculatedfinishedsquarefeet  worth_scaled  baths_scaled  \\\n",
       "9816          3.0                          2841      2.545324      1.926880   \n",
       "40848         4.0                          1182     -1.244041     -0.133840   \n",
       "38048         3.0                          2628     -0.546727     -1.507654   \n",
       "\n",
       "       beds_scaled  finishedarea_scaled  \n",
       "9816     -0.261993             1.894494  \n",
       "40848     1.008879            -0.854941  \n",
       "38048    -0.261993             1.541492  "
      ]
     },
     "execution_count": 16,
     "metadata": {},
     "output_type": "execute_result"
    }
   ],
   "source": [
    "X_train_exp.head(3)"
   ]
  },
  {
   "cell_type": "code",
   "execution_count": null,
   "id": "1eb70bdf",
   "metadata": {},
   "outputs": [],
   "source": []
  }
 ],
 "metadata": {
  "kernelspec": {
   "display_name": "Python 3 (ipykernel)",
   "language": "python",
   "name": "python3"
  },
  "language_info": {
   "codemirror_mode": {
    "name": "ipython",
    "version": 3
   },
   "file_extension": ".py",
   "mimetype": "text/x-python",
   "name": "python",
   "nbconvert_exporter": "python",
   "pygments_lexer": "ipython3",
   "version": "3.8.8"
  }
 },
 "nbformat": 4,
 "nbformat_minor": 5
}
