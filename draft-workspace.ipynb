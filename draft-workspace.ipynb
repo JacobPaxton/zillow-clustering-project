{
 "cells": [
  {
   "cell_type": "code",
   "execution_count": 1,
   "id": "6130fd5f",
   "metadata": {},
   "outputs": [],
   "source": [
    "### Imports ###\n",
    "import warnings\n",
    "warnings.filterwarnings('ignore')\n",
    "\n",
    "import numpy as np\n",
    "import pandas as pd\n",
    "import seaborn as sns\n",
    "import matplotlib.pyplot as plt\n",
    "import scipy.stats as stats\n",
    "\n",
    "from sklearn.cluster import KMeans\n",
    "\n",
    "import acquire\n",
    "import wrangle"
   ]
  },
  {
   "cell_type": "markdown",
   "id": "07888e87",
   "metadata": {},
   "source": [
    "# Acquire"
   ]
  },
  {
   "cell_type": "code",
   "execution_count": 2,
   "id": "ad149e8c",
   "metadata": {},
   "outputs": [],
   "source": [
    "# Commented Out Reason: acquire.py accomodates this now, data acquired later in notebook\n",
    "# Function: acquire.pull_clustering_zillow()\n",
    "\n",
    "# Acquire Zillow data\n",
    "# df = acquire.pull_clustering_zillow()\n",
    "# df.head(3)"
   ]
  },
  {
   "cell_type": "code",
   "execution_count": 3,
   "id": "e325bbbc",
   "metadata": {},
   "outputs": [],
   "source": [
    "# Commented Out Reason: Filtered query to 'Single Family Residential' in acquire.py\n",
    "\n",
    "# ### Checking if bringing more than Single Family Residential is worth it ###\n",
    "# print(\"Original:\", len(df))\n",
    "# print(\"Test:\", len(df[(df.propertylandusedesc == 'Single Family Residential') | \n",
    "#                       (df.propertylandusedesc == 'Mobile Home') | \n",
    "#                       (df.propertylandusedesc == 'Manufactured, Modular, Prefabricated Homes') | \n",
    "#                       (df.architecturalstyledesc == 'Bungalow') | \n",
    "#                       (df.architecturalstyledesc == 'Ranch/Rambler')]))\n",
    "# print(\"Old:\", len(df[(df.propertylandusedesc == 'Single Family Residential')]))"
   ]
  },
  {
   "cell_type": "markdown",
   "id": "7695689d",
   "metadata": {},
   "source": [
    "I'm going to leave the options out, I don't really care about a less-than 1% increase in observations."
   ]
  },
  {
   "cell_type": "code",
   "execution_count": 4,
   "id": "1863c508",
   "metadata": {},
   "outputs": [],
   "source": [
    "# Commented Out Reason: Filtered query to 'Single Family Residential' in acquire.py\n",
    "\n",
    "# ### Filtering to Single Family Residential ###\n",
    "# df = df[df.propertylandusedesc == 'Single Family Residential']\n",
    "# df.head(3)"
   ]
  },
  {
   "cell_type": "code",
   "execution_count": 5,
   "id": "b5e486d6",
   "metadata": {},
   "outputs": [],
   "source": [
    "# Commented Out Reason: acquire.py accomodates this now\n",
    "\n",
    "# ### Begin identifying columns to keep for analysis or drop ###\n",
    "# print(\"Null Value Percentages By Column \\n\")\n",
    "# for col in df.columns:\n",
    "#     percentage = (df[col].isna().sum() / len(df)) * 100\n",
    "#     print(col + \": \" + str(round(percentage, 2)) + \"%\")"
   ]
  },
  {
   "cell_type": "markdown",
   "id": "0a92803c",
   "metadata": {},
   "source": [
    "**Candidates to drop (high null count):**\n",
    "typeconstructiontypeid: 99.85%, storytypeid: 99.91%, buildingclasstypeid: 100.0%, architecturalstyletypeid: 99.87%, airconditioningtypeid: 73.98%, basementsqft: 99.91%, decktypeid: 99.26%, finishedfloor1squarefeet: 91.65%, finishedsquarefeet13: 100.0%, finishedsquarefeet15: 100.0%, finishedsquarefeet50: 91.65%, finishedsquarefeet6: 99.68%, fireplacecnt: 86.18%, garagecarcnt: 65.63%, garagetotalsqft: 65.63%, hashottuborspa: 97.11%, poolcnt: 78.83%, poolsizesum: 98.35%, pooltypeid10: 99.15%, pooltypeid2: 97.95%, pooltypeid7: 80.91%, regionidneighborhood: 63.72%, threequarterbathnbr: 87.16%, yardbuildingsqft17: 96.3%, yardbuildingsqft26: 99.88%, numberofstories: 72.22%, fireplaceflag: 99.85%, taxdelinquencyflag: 96.05%, taxdelinquencyyear: 96.05%, airconditioningdesc: 73.98%, architecturalstyledesc: 99.87%, buildingclassdesc: 100.0%, storydesc: 99.91%, typeconstructiondesc: 99.85%\n",
    "\n",
    "**Candidates to investigate after MVP (moderate null count):**\n",
    "heatingorsystemtypeid: 35.3%, buildingqualitytypeid: 35.67%, propertyzoningdesc: 35.47%, unitcnt: 35.47%, heatingorsystemdesc: 35.3%\n",
    "\n",
    "\n",
    "**Candidates to keep in MVP (low null count):**\n",
    "parcelid: 0.0%, transactiondate: 0.0%, propertylandusetypeid: 0.0%, bathroomcnt: 0.0%, bedroomcnt: 0.0%, calculatedbathnbr: 0.26%, calculatedfinishedsquarefeet: 0.15%, finishedsquarefeet12: 0.47%, fips: 0.0%, fullbathcnt: 0.26%, latitude: 0.0%, longitude: 0.0%, lotsizesquarefeet: 0.7%, propertycountylandusecode: 0.0%, rawcensustractandblock: 0.0%, regionidcity: 1.98%, regionidcounty: 0.0%, regionidzip: 0.05%, roomcnt: 0.0%, yearbuilt: 0.22%, structuretaxvaluedollarcnt: 0.16%, taxvaluedollarcnt: 0.0%, assessmentyear: 0.0%, landtaxvaluedollarcnt: 0.0%, taxamount: 0.01%, censustractandblock: 0.23%, logerror: 0.0%, propertylandusedesc: 0.0%, property_id: 0.0%, transaction_id: 0.0%"
   ]
  },
  {
   "cell_type": "code",
   "execution_count": 6,
   "id": "71df2db0",
   "metadata": {},
   "outputs": [],
   "source": [
    "# Commented Out Reason: acquire.py accomodates this now\n",
    "\n",
    "# df = df.drop(columns=['typeconstructiontypeid', 'storytypeid', 'buildingclasstypeid', \n",
    "#                       'architecturalstyletypeid', 'airconditioningtypeid', 'basementsqft', 'decktypeid', \n",
    "#                       'finishedfloor1squarefeet', 'finishedsquarefeet13', 'finishedsquarefeet15', \n",
    "#                       'finishedsquarefeet50', 'finishedsquarefeet6', 'fireplacecnt', 'garagecarcnt', \n",
    "#                       'garagetotalsqft', 'hashottuborspa', 'poolcnt', 'poolsizesum', 'pooltypeid10', \n",
    "#                       'pooltypeid2', 'pooltypeid7', 'regionidneighborhood', 'threequarterbathnbr', \n",
    "#                       'yardbuildingsqft17', 'yardbuildingsqft26', 'numberofstories', 'fireplaceflag', \n",
    "#                       'taxdelinquencyflag', 'taxdelinquencyyear', 'airconditioningdesc', 'architecturalstyledesc', \n",
    "#                       'buildingclassdesc', 'storydesc', 'typeconstructiondesc'])\n",
    "# df.head(3)"
   ]
  },
  {
   "cell_type": "code",
   "execution_count": 7,
   "id": "3b46aac8",
   "metadata": {},
   "outputs": [],
   "source": [
    "# Commented Out Reason: acquire.py accomodates this now\n",
    "\n",
    "# df = df.drop(columns = ['heatingorsystemtypeid', 'buildingqualitytypeid', 'propertyzoningdesc', \n",
    "#                         'unitcnt', 'heatingorsystemdesc'])\n",
    "# df.head(3)"
   ]
  },
  {
   "cell_type": "markdown",
   "id": "b356f386",
   "metadata": {},
   "source": [
    "**Candidates to keep:**\n",
    "parcelid\n",
    "propertyid\n",
    "transactionid\n",
    "transactiondate\n",
    "propertylandusetypeid\n",
    "bathroomcnt\n",
    "bedroomcnt\n",
    "calculatedfinishedsquarefeet\n",
    "latitude\n",
    "longitude\n",
    "lotsizesquarefeet\n",
    "propertycountylandusecode\n",
    "regionidcity\n",
    "regionidcounty\n",
    "regionidzip\n",
    "roomcnt\n",
    "yearbuilt\n",
    "structuretaxvaluedollarcnt\n",
    "landtaxvaluedollarcnt\n",
    "taxvaluedollarcnt\n",
    "assessmentyear\n",
    "taxamount\n",
    "logerror\n",
    "propertylandusetypeid\n",
    "calculatedbathnbr\n",
    "finishedsquarefeet12\n",
    "fullbathcnt\n",
    "\n",
    "**Drop because I'm not interested in investigating it:**\n",
    "assessmentyear\n",
    "rawcensustractandblock\n",
    "censustractandblock\n",
    "propertylandusedesc\n",
    "propertylandusetypeid"
   ]
  },
  {
   "cell_type": "code",
   "execution_count": 8,
   "id": "5b594252",
   "metadata": {},
   "outputs": [],
   "source": [
    "# Commented Out Reason: acquire.py accomodates this now\n",
    "\n",
    "# df = df.drop(columns=['assessmentyear', 'rawcensustractandblock', 'censustractandblock', \n",
    "#                       'propertylandusedesc', 'propertylandusetypeid'])\n",
    "# df.head(3)"
   ]
  },
  {
   "cell_type": "code",
   "execution_count": 9,
   "id": "a8644056",
   "metadata": {},
   "outputs": [],
   "source": [
    "# Commented Out Reason: acquire.py accomodates this now\n",
    "\n",
    "# df.columns"
   ]
  },
  {
   "cell_type": "markdown",
   "id": "5a593d91",
   "metadata": {},
   "source": [
    "**Groupings to break out after MVP:**\n",
    "- Parcel info: 'propertycountylandusecode', 'parcelid', 'yearbuilt', 'property_id', 'transaction_id', 'transactiondate', 'taxamount'\n",
    "- Locality: 'fips', 'regionidcity', 'regionidcounty', 'regionidzip'\n",
    "- Home/Lot value: 'taxvaluedollarcnt', 'structuretaxvaluedollarcnt', 'landtaxvaluedollarcnt'\n",
    "- Size: 'calculatedfinishedsquarefeet', 'lotsizesquarefeet', 'finishedsquarefeet12'\n",
    "- Rooms: 'bathroomcnt', 'bedroomcnt', 'calculatedbathnbr', 'fullbathcnt', 'roomcnt'\n",
    "\n",
    "**Columns to use immediately:**\n",
    "'parcelid', 'fips', 'latitude', 'longitude', 'taxvaluedollarcnt', 'logerror', 'bathroomcnt', 'bedroomcnt', 'calculatedfinishedsquarefeet', "
   ]
  },
  {
   "cell_type": "code",
   "execution_count": 10,
   "id": "71fb07cb",
   "metadata": {},
   "outputs": [],
   "source": [
    "# Commented Out Reason: acquire.py accomodates this now\n",
    "\n",
    "# col_list = ['parcelid', 'fips', 'latitude', 'longitude', \n",
    "#             'taxvaluedollarcnt', 'logerror', \n",
    "#             'bathroomcnt', 'bedroomcnt', 'calculatedfinishedsquarefeet']\n",
    "\n",
    "# df = df[col_list]\n",
    "# df.head(3)"
   ]
  },
  {
   "cell_type": "markdown",
   "id": "4c0617fe",
   "metadata": {},
   "source": [
    "# Prepare - MVP"
   ]
  },
  {
   "cell_type": "code",
   "execution_count": 11,
   "id": "40acca52",
   "metadata": {
    "scrolled": true
   },
   "outputs": [],
   "source": [
    "# Commented Out Reason: wrangle.py accomodates this now\n",
    "### Acquire for MVP ###\n",
    "# df = acquire.MVP_pull_clustering_zillow()\n",
    "# df.head(3)"
   ]
  },
  {
   "cell_type": "code",
   "execution_count": 12,
   "id": "73f188d8",
   "metadata": {},
   "outputs": [],
   "source": [
    "# Commented Out Reason: Nulls handled in wrangle.py\n",
    "\n",
    "# print('Observations:', len(df), '\\n')\n",
    "# print('Nulls:\\n', df.isna().sum())"
   ]
  },
  {
   "cell_type": "code",
   "execution_count": 13,
   "id": "ba711e6e",
   "metadata": {},
   "outputs": [],
   "source": [
    "# Commented Out Reason: Nulls handled in wrangle.py\n",
    "\n",
    "# df = df.dropna()\n",
    "# df.head(3)"
   ]
  },
  {
   "cell_type": "code",
   "execution_count": 14,
   "id": "9b770828",
   "metadata": {},
   "outputs": [],
   "source": [
    "# Commented Out Reason: Dtypes handled in wrangle.py\n",
    "\n",
    "# df['parcelid'] = df.parcelid.astype('str')\n",
    "# df['fips'] = df.fips.astype('int').astype('str')\n",
    "# df['latitude'] = df.latitude.astype('int')\n",
    "# df['longitude'] = df.longitude.astype('int')\n",
    "# df['taxvaluedollarcnt'] = df.taxvaluedollarcnt.astype('int')\n",
    "# df['calculatedfinishedsquarefeet'] = df.calculatedfinishedsquarefeet.astype('int')\n",
    "# df.head(3)"
   ]
  },
  {
   "cell_type": "markdown",
   "id": "ee9f6276",
   "metadata": {},
   "source": [
    "wrangle.py additions: rename columns, keep/remove outliers, split data 60 / 20 / 20, isolate 'logerror' target, scale numeric data using StandardScaler"
   ]
  },
  {
   "cell_type": "code",
   "execution_count": 15,
   "id": "63a8077d",
   "metadata": {},
   "outputs": [
    {
     "name": "stdout",
     "output_type": "stream",
     "text": [
      "(27504, 17)\n"
     ]
    },
    {
     "data": {
      "text/html": [
       "<div>\n",
       "<style scoped>\n",
       "    .dataframe tbody tr th:only-of-type {\n",
       "        vertical-align: middle;\n",
       "    }\n",
       "\n",
       "    .dataframe tbody tr th {\n",
       "        vertical-align: top;\n",
       "    }\n",
       "\n",
       "    .dataframe thead th {\n",
       "        text-align: right;\n",
       "    }\n",
       "</style>\n",
       "<table border=\"1\" class=\"dataframe\">\n",
       "  <thead>\n",
       "    <tr style=\"text-align: right;\">\n",
       "      <th></th>\n",
       "      <th>Parcel.ID</th>\n",
       "      <th>County</th>\n",
       "      <th>Latitude</th>\n",
       "      <th>Longitude</th>\n",
       "      <th>Home.Value</th>\n",
       "      <th>Baths</th>\n",
       "      <th>Beds</th>\n",
       "      <th>Finished.Area</th>\n",
       "      <th>is_coastal</th>\n",
       "      <th>cool_places</th>\n",
       "      <th>Prediction.Error</th>\n",
       "      <th>Home.Value.Scaled</th>\n",
       "      <th>Baths.Scaled</th>\n",
       "      <th>Beds.Scaled</th>\n",
       "      <th>Finished.Area.Scaled</th>\n",
       "      <th>Is.Coastal.Scaled</th>\n",
       "      <th>Is.Cool.Place.Scaled</th>\n",
       "    </tr>\n",
       "  </thead>\n",
       "  <tbody>\n",
       "    <tr>\n",
       "      <th>9816</th>\n",
       "      <td>14433972</td>\n",
       "      <td>Orange</td>\n",
       "      <td>33494840</td>\n",
       "      <td>-117693964</td>\n",
       "      <td>1032894</td>\n",
       "      <td>3.5</td>\n",
       "      <td>3.0</td>\n",
       "      <td>2841</td>\n",
       "      <td>False</td>\n",
       "      <td>False</td>\n",
       "      <td>0.064047</td>\n",
       "      <td>2.545324</td>\n",
       "      <td>1.926880</td>\n",
       "      <td>-0.261993</td>\n",
       "      <td>1.894494</td>\n",
       "      <td>0.152861</td>\n",
       "      <td>0.508689</td>\n",
       "    </tr>\n",
       "    <tr>\n",
       "      <th>40848</th>\n",
       "      <td>14037584</td>\n",
       "      <td>Orange</td>\n",
       "      <td>33742714</td>\n",
       "      <td>-118017115</td>\n",
       "      <td>59427</td>\n",
       "      <td>2.0</td>\n",
       "      <td>4.0</td>\n",
       "      <td>1182</td>\n",
       "      <td>False</td>\n",
       "      <td>False</td>\n",
       "      <td>0.012524</td>\n",
       "      <td>-1.244041</td>\n",
       "      <td>-0.133840</td>\n",
       "      <td>1.008879</td>\n",
       "      <td>-0.854941</td>\n",
       "      <td>0.152861</td>\n",
       "      <td>0.508689</td>\n",
       "    </tr>\n",
       "    <tr>\n",
       "      <th>38048</th>\n",
       "      <td>11693178</td>\n",
       "      <td>LA</td>\n",
       "      <td>33992973</td>\n",
       "      <td>-118287389</td>\n",
       "      <td>238563</td>\n",
       "      <td>1.0</td>\n",
       "      <td>3.0</td>\n",
       "      <td>2628</td>\n",
       "      <td>False</td>\n",
       "      <td>False</td>\n",
       "      <td>0.098879</td>\n",
       "      <td>-0.546727</td>\n",
       "      <td>-1.507654</td>\n",
       "      <td>-0.261993</td>\n",
       "      <td>1.541492</td>\n",
       "      <td>0.152861</td>\n",
       "      <td>0.508689</td>\n",
       "    </tr>\n",
       "  </tbody>\n",
       "</table>\n",
       "</div>"
      ],
      "text/plain": [
       "      Parcel.ID  County  Latitude  Longitude  Home.Value  Baths  Beds  \\\n",
       "9816   14433972  Orange  33494840 -117693964     1032894    3.5   3.0   \n",
       "40848  14037584  Orange  33742714 -118017115       59427    2.0   4.0   \n",
       "38048  11693178      LA  33992973 -118287389      238563    1.0   3.0   \n",
       "\n",
       "       Finished.Area  is_coastal  cool_places  Prediction.Error  \\\n",
       "9816            2841       False        False          0.064047   \n",
       "40848           1182       False        False          0.012524   \n",
       "38048           2628       False        False          0.098879   \n",
       "\n",
       "       Home.Value.Scaled  Baths.Scaled  Beds.Scaled  Finished.Area.Scaled  \\\n",
       "9816            2.545324      1.926880    -0.261993              1.894494   \n",
       "40848          -1.244041     -0.133840     1.008879             -0.854941   \n",
       "38048          -0.546727     -1.507654    -0.261993              1.541492   \n",
       "\n",
       "       Is.Coastal.Scaled  Is.Cool.Place.Scaled  \n",
       "9816            0.152861              0.508689  \n",
       "40848           0.152861              0.508689  \n",
       "38048           0.152861              0.508689  "
      ]
     },
     "execution_count": 15,
     "metadata": {},
     "output_type": "execute_result"
    }
   ],
   "source": [
    "# # Full results with outliers\n",
    "# df_out, X_train_exp_out,\\\n",
    "# X_train_out, y_train_out,\\\n",
    "# X_validate_out, y_validate_out,\\\n",
    "# X_test_out, y_test_out = wrangle.wrangle_zillow_MVP_keep_outliers()\n",
    "\n",
    "# Full results with outliers removed via IQR\n",
    "df, X_train_exp,\\\n",
    "X_train, y_train,\\\n",
    "X_validate, y_validate,\\\n",
    "X_test, y_test = wrangle.wrangle_zillow_MVP()\n",
    "\n",
    "print(X_train_exp.shape)\n",
    "X_train_exp.head(3)"
   ]
  },
  {
   "cell_type": "code",
   "execution_count": 16,
   "id": "742e66dc",
   "metadata": {},
   "outputs": [],
   "source": [
    "# County histogram\n",
    "# plt.figure(figsize=(10,7))\n",
    "# sns.histplot(df.County)\n",
    "# plt.title('County Histogram')\n",
    "# plt.show()"
   ]
  },
  {
   "cell_type": "code",
   "execution_count": 17,
   "id": "d7a22a50",
   "metadata": {},
   "outputs": [],
   "source": [
    "# Bedroom count histogram\n",
    "# plt.figure(figsize=(10,7))\n",
    "# sns.histplot(df.Beds)\n",
    "# plt.title('Bedroom Count Histogram')\n",
    "# plt.show()"
   ]
  },
  {
   "cell_type": "code",
   "execution_count": 18,
   "id": "27b5e38c",
   "metadata": {},
   "outputs": [],
   "source": [
    "# Bathroom count histogram\n",
    "# plt.figure(figsize=(10,7))\n",
    "# sns.histplot(df.Baths)\n",
    "# plt.title('Bathroom Count Histogram')\n",
    "# plt.show()"
   ]
  },
  {
   "cell_type": "code",
   "execution_count": 19,
   "id": "3751affe",
   "metadata": {},
   "outputs": [],
   "source": [
    "# Finished area histogram\n",
    "# plt.figure(figsize=(12,7))\n",
    "# sns.histplot(df['Finished.Area'])\n",
    "# plt.title('Finished Area Histogram')\n",
    "# plt.show()"
   ]
  },
  {
   "cell_type": "code",
   "execution_count": 20,
   "id": "1d8505a5",
   "metadata": {},
   "outputs": [],
   "source": [
    "# Home value histogram\n",
    "# plt.figure(figsize=(15,7))\n",
    "# value_plot = sns.histplot(df['Home.Value'])\n",
    "# plt.title('Home Value Histogram')\n",
    "# value_plot.xaxis.set_major_formatter('{:,.0f}'.format)\n",
    "# plt.show()"
   ]
  },
  {
   "cell_type": "code",
   "execution_count": 21,
   "id": "59e32610",
   "metadata": {},
   "outputs": [],
   "source": [
    "# Lat/Long scatterplot by county\n",
    "# plt.figure(figsize=(15,7))\n",
    "# sns.scatterplot(df.Longitude, df.Latitude, hue=df.County)"
   ]
  },
  {
   "cell_type": "markdown",
   "id": "33ce09b0",
   "metadata": {},
   "source": [
    "# Explore - MVP"
   ]
  },
  {
   "cell_type": "markdown",
   "id": "46ac8fe3",
   "metadata": {},
   "source": [
    "Since we're looking at Prediction Error as the target, we should look to see if any current values correlate with the Prediction Error as the first step."
   ]
  },
  {
   "cell_type": "code",
   "execution_count": 22,
   "id": "5ab409ae",
   "metadata": {},
   "outputs": [
    {
     "data": {
      "text/plain": [
       "<AxesSubplot:>"
      ]
     },
     "execution_count": 22,
     "metadata": {},
     "output_type": "execute_result"
    },
    {
     "data": {
      "image/png": "[encoded data removed]",
      "text/plain": [
       "<Figure size 432x288 with 2 Axes>"
      ]
     },
     "metadata": {
      "needs_background": "light"
     },
     "output_type": "display_data"
    }
   ],
   "source": [
    "sns.heatmap(df.corr(), cmap='coolwarm_r', vmin=-1, vmax=1, annot=True)"
   ]
  },
  {
   "cell_type": "markdown",
   "id": "3bf26016",
   "metadata": {},
   "source": [
    "Since no value correlates strongly with Prediction Error, we should investigate further. One idea is to take **coastline properties** as a feature to see if the correlation is there.\n",
    "\n",
    "Before we do that, let's first look at "
   ]
  },
  {
   "cell_type": "code",
   "execution_count": null,
   "id": "7b59694f",
   "metadata": {},
   "outputs": [],
   "source": []
  },
  {
   "cell_type": "markdown",
   "id": "3215ac1c",
   "metadata": {},
   "source": [
    "## Coastal Property Identification"
   ]
  },
  {
   "cell_type": "code",
   "execution_count": 23,
   "id": "8ddd5aa6",
   "metadata": {},
   "outputs": [
    {
     "name": "stdout",
     "output_type": "stream",
     "text": [
      "45842\n",
      "44297\n"
     ]
    }
   ],
   "source": [
    "print(len(df))\n",
    "print(len(df.Latitude.unique()))"
   ]
  },
  {
   "cell_type": "code",
   "execution_count": 24,
   "id": "d162cc3f",
   "metadata": {},
   "outputs": [
    {
     "ename": "NameError",
     "evalue": "name 'df_out' is not defined",
     "output_type": "error",
     "traceback": [
      "\u001b[0;31m---------------------------------------------------------------------------\u001b[0m",
      "\u001b[0;31mNameError\u001b[0m                                 Traceback (most recent call last)",
      "\u001b[0;32m/var/folders/9p/dj4ffwn92yd9115ftwg8gp500000gn/T/ipykernel_82453/4185414073.py\u001b[0m in \u001b[0;36m<module>\u001b[0;34m\u001b[0m\n\u001b[1;32m      1\u001b[0m \u001b[0;31m# Decimal Degrees with 3 decimal places is 111.1 meters, I found this to be the best dividing line later\u001b[0m\u001b[0;34m\u001b[0m\u001b[0;34m\u001b[0m\u001b[0;34m\u001b[0m\u001b[0m\n\u001b[1;32m      2\u001b[0m \u001b[0mdf\u001b[0m\u001b[0;34m[\u001b[0m\u001b[0;34m'relaxed_lat'\u001b[0m\u001b[0;34m]\u001b[0m \u001b[0;34m=\u001b[0m \u001b[0;36m2.5\u001b[0m \u001b[0;34m*\u001b[0m \u001b[0mround\u001b[0m\u001b[0;34m(\u001b[0m\u001b[0mdf\u001b[0m\u001b[0;34m[\u001b[0m\u001b[0;34m'Latitude'\u001b[0m\u001b[0;34m]\u001b[0m \u001b[0;34m/\u001b[0m \u001b[0;36m2500000\u001b[0m\u001b[0;34m,\u001b[0m \u001b[0;36m3\u001b[0m\u001b[0;34m)\u001b[0m\u001b[0;34m\u001b[0m\u001b[0;34m\u001b[0m\u001b[0m\n\u001b[0;32m----> 3\u001b[0;31m \u001b[0mdf_out\u001b[0m\u001b[0;34m[\u001b[0m\u001b[0;34m'relaxed_lat'\u001b[0m\u001b[0;34m]\u001b[0m \u001b[0;34m=\u001b[0m \u001b[0;36m2.5\u001b[0m \u001b[0;34m*\u001b[0m \u001b[0mround\u001b[0m\u001b[0;34m(\u001b[0m\u001b[0mdf\u001b[0m\u001b[0;34m[\u001b[0m\u001b[0;34m'Latitude'\u001b[0m\u001b[0;34m]\u001b[0m \u001b[0;34m/\u001b[0m \u001b[0;36m2500000\u001b[0m\u001b[0;34m,\u001b[0m \u001b[0;36m3\u001b[0m\u001b[0;34m)\u001b[0m\u001b[0;34m\u001b[0m\u001b[0;34m\u001b[0m\u001b[0m\n\u001b[0m\u001b[1;32m      4\u001b[0m \u001b[0;34m\u001b[0m\u001b[0m\n\u001b[1;32m      5\u001b[0m \u001b[0mdf\u001b[0m\u001b[0;34m[\u001b[0m\u001b[0;34m'relaxed_long'\u001b[0m\u001b[0;34m]\u001b[0m \u001b[0;34m=\u001b[0m \u001b[0;36m2.5\u001b[0m \u001b[0;34m*\u001b[0m \u001b[0mround\u001b[0m\u001b[0;34m(\u001b[0m\u001b[0mdf\u001b[0m\u001b[0;34m[\u001b[0m\u001b[0;34m'Longitude'\u001b[0m\u001b[0;34m]\u001b[0m \u001b[0;34m/\u001b[0m \u001b[0;36m2500000\u001b[0m\u001b[0;34m,\u001b[0m \u001b[0;36m3\u001b[0m\u001b[0;34m)\u001b[0m\u001b[0;34m\u001b[0m\u001b[0;34m\u001b[0m\u001b[0m\n",
      "\u001b[0;31mNameError\u001b[0m: name 'df_out' is not defined"
     ]
    }
   ],
   "source": [
    "# Decimal Degrees with 3 decimal places is 111.1 meters, I found this to be the best dividing line later\n",
    "df['relaxed_lat'] = 2.5 * round(df['Latitude'] / 2500000, 3)\n",
    "df_out['relaxed_lat'] = 2.5 * round(df['Latitude'] / 2500000, 3)\n",
    "\n",
    "df['relaxed_long'] = 2.5 * round(df['Longitude'] / 2500000, 3)\n",
    "df_out['relaxed_long'] = 2.5 * round(df['Longitude'] / 2500000, 3)\n",
    "\n",
    "df.head(3)"
   ]
  },
  {
   "cell_type": "code",
   "execution_count": null,
   "id": "a1182195",
   "metadata": {},
   "outputs": [],
   "source": [
    "print(len(df))\n",
    "print(len(df.relaxed_lat.unique()))"
   ]
  },
  {
   "cell_type": "markdown",
   "id": "2ac954fe",
   "metadata": {},
   "source": [
    "With this scope, we're looking at *10 properties per unique latitude*. If we only look at one or two of the westmost properties per latitude, that should give us coastal properties.\n",
    "\n",
    "Another consideration: The northmost latitude is not coastal - start with the northmost coastal property."
   ]
  },
  {
   "cell_type": "code",
   "execution_count": null,
   "id": "3a0b0ff3",
   "metadata": {},
   "outputs": [],
   "source": [
    "# Northmost coastal property (the westernmost coastal property is the westernmost property)\n",
    "df[df['Longitude'] == df['Longitude'].min()].sort_values(by='relaxed_lat', ascending=False).head(1)\n",
    "df_out[df_out['Longitude'] == df_out['Longitude'].min()].sort_values(by='relaxed_lat', ascending=False).head(1)"
   ]
  },
  {
   "cell_type": "markdown",
   "id": "b6aefdc7",
   "metadata": {},
   "source": [
    "- Start with northernmost coastal property (filter out more-north properties)\n",
    "- Group by each latitude\n",
    "- Find minimum longitude\n",
    "- Store minimum longitude to the latitude key in a dict\n",
    "- Then\n",
    "- Iterate through each observation\n",
    "- Check each observation's latitude for existence in keys\n",
    "- If key exists, check observation's longitude for match to value\n",
    "- If observation matches both, mark True in new column\n",
    "- If observation fails either of the above checks, mark False"
   ]
  },
  {
   "cell_type": "code",
   "execution_count": null,
   "id": "900db6cf",
   "metadata": {},
   "outputs": [],
   "source": [
    "latlong_dict = dict(df.groupby('relaxed_lat').Longitude.min())\n",
    "latlong_dict_out = dict(df_out.groupby('relaxed_lat').Longitude.min())\n",
    "\n",
    "longlat_dict = dict(df.groupby('relaxed_long').Latitude.min())\n",
    "longlat_dict_out = dict(df.groupby('relaxed_long').Latitude.min())"
   ]
  },
  {
   "cell_type": "code",
   "execution_count": null,
   "id": "e58d2d26",
   "metadata": {},
   "outputs": [],
   "source": [
    "df['is_coastal_horizontal'] = ((df['relaxed_lat'] <= 34.374) & \n",
    "                            (df['relaxed_lat'].apply(lambda x: latlong_dict.get(x)) == df['Longitude']))\n",
    "\n",
    "df_out['is_coastal_horizontal'] = ((df_out['relaxed_lat'] <= 34.374) & \n",
    "                                (df_out['relaxed_lat'].apply(lambda x: latlong_dict.get(x)) == df_out['Longitude']))\n",
    "\n",
    "\n",
    "df['is_coastal_vertical'] = df['relaxed_long'].apply(lambda x: longlat_dict.get(x)) == df['Latitude']\n",
    "\n",
    "df_out['is_coastal_vertical'] = df_out['relaxed_long'].apply(lambda x: longlat_dict.get(x)) == df_out['Latitude']\n",
    "\n",
    "df_out.head(3)"
   ]
  },
  {
   "cell_type": "code",
   "execution_count": null,
   "id": "c8c517d4",
   "metadata": {},
   "outputs": [],
   "source": [
    "plt.figure(figsize=(12,7))\n",
    "scatplot = sns.scatterplot(df.Longitude, df.Latitude)\n",
    "scatplot.xaxis.set_major_formatter('{:,.0f}'.format)\n",
    "scatplot.yaxis.set_major_formatter('{:,.0f}'.format)\n",
    "plt.plot((-119500000, -117500000), (34200000, 33200000), c='red')"
   ]
  },
  {
   "cell_type": "code",
   "execution_count": null,
   "id": "3de89f2d",
   "metadata": {},
   "outputs": [],
   "source": [
    "sns.scatterplot(data=df[df.is_coastal_vertical], x='Longitude', y='Latitude')\n",
    "plt.show()\n",
    "sns.scatterplot(data=df_out[df_out.is_coastal_vertical], x='Longitude', y='Latitude')"
   ]
  },
  {
   "cell_type": "code",
   "execution_count": null,
   "id": "ab2a02f8",
   "metadata": {},
   "outputs": [],
   "source": [
    "sns.scatterplot(data=df[df.is_coastal_horizontal], x='Longitude', y='Latitude')\n",
    "plt.show()\n",
    "sns.scatterplot(data=df_out[df_out.is_coastal_horizontal], x='Longitude', y='Latitude')"
   ]
  },
  {
   "cell_type": "code",
   "execution_count": null,
   "id": "742bbe65",
   "metadata": {},
   "outputs": [],
   "source": [
    "print(df['is_coastal_vertical'].mean())\n",
    "df_out['is_coastal_vertical'].mean()"
   ]
  },
  {
   "cell_type": "code",
   "execution_count": null,
   "id": "d8c2c1e2",
   "metadata": {
    "scrolled": true
   },
   "outputs": [],
   "source": [
    "print(df['is_coastal_horizontal'].mean())\n",
    "df_out['is_coastal_horizontal'].mean()"
   ]
  },
  {
   "cell_type": "code",
   "execution_count": null,
   "id": "7188eaa9",
   "metadata": {},
   "outputs": [],
   "source": [
    "print(df.groupby('is_coastal_vertical')['Prediction.Error'].mean())\n",
    "df_out.groupby('is_coastal_vertical')['Prediction.Error'].mean()"
   ]
  },
  {
   "cell_type": "code",
   "execution_count": null,
   "id": "808bc41b",
   "metadata": {},
   "outputs": [],
   "source": [
    "print(df.groupby('is_coastal_horizontal')['Prediction.Error'].mean())\n",
    "df_out.groupby('is_coastal_horizontal')['Prediction.Error'].mean()"
   ]
  },
  {
   "cell_type": "markdown",
   "id": "71ded2d5",
   "metadata": {},
   "source": [
    "## Coastal Property Hypothesis Testing\n",
    "$H_0$: On average, coastal properties are *not* predicted lower than actual cost more often than non-coastal properties.\n",
    "\n",
    "$H_a$: On average, coastal properties are predicted lower than actual cost more often than non-coastal properties."
   ]
  },
  {
   "cell_type": "code",
   "execution_count": 25,
   "id": "733dad67",
   "metadata": {},
   "outputs": [
    {
     "ename": "AttributeError",
     "evalue": "'DataFrame' object has no attribute 'is_coastal_horizontal'",
     "output_type": "error",
     "traceback": [
      "\u001b[0;31m---------------------------------------------------------------------------\u001b[0m",
      "\u001b[0;31mAttributeError\u001b[0m                            Traceback (most recent call last)",
      "\u001b[0;32m/var/folders/9p/dj4ffwn92yd9115ftwg8gp500000gn/T/ipykernel_82453/2015306285.py\u001b[0m in \u001b[0;36m<module>\u001b[0;34m\u001b[0m\n\u001b[1;32m      2\u001b[0m \u001b[0malpha\u001b[0m \u001b[0;34m=\u001b[0m \u001b[0;36m.05\u001b[0m\u001b[0;34m\u001b[0m\u001b[0;34m\u001b[0m\u001b[0m\n\u001b[1;32m      3\u001b[0m \u001b[0;31m# Run test\u001b[0m\u001b[0;34m\u001b[0m\u001b[0;34m\u001b[0m\u001b[0;34m\u001b[0m\u001b[0m\n\u001b[0;32m----> 4\u001b[0;31m t, p = stats.mannwhitneyu(df[df.is_coastal_horizontal]['Prediction.Error'], \n\u001b[0m\u001b[1;32m      5\u001b[0m                           \u001b[0mdf\u001b[0m\u001b[0;34m[\u001b[0m\u001b[0mdf\u001b[0m\u001b[0;34m.\u001b[0m\u001b[0mis_coastal_horizontal\u001b[0m \u001b[0;34m==\u001b[0m \u001b[0;32mFalse\u001b[0m\u001b[0;34m]\u001b[0m\u001b[0;34m[\u001b[0m\u001b[0;34m'Prediction.Error'\u001b[0m\u001b[0;34m]\u001b[0m\u001b[0;34m,\u001b[0m\u001b[0;34m\u001b[0m\u001b[0;34m\u001b[0m\u001b[0m\n\u001b[1;32m      6\u001b[0m                           alternative='greater')\n",
      "\u001b[0;32m/opt/homebrew/anaconda3/lib/python3.8/site-packages/pandas/core/generic.py\u001b[0m in \u001b[0;36m__getattr__\u001b[0;34m(self, name)\u001b[0m\n\u001b[1;32m   5485\u001b[0m         ):\n\u001b[1;32m   5486\u001b[0m             \u001b[0;32mreturn\u001b[0m \u001b[0mself\u001b[0m\u001b[0;34m[\u001b[0m\u001b[0mname\u001b[0m\u001b[0;34m]\u001b[0m\u001b[0;34m\u001b[0m\u001b[0;34m\u001b[0m\u001b[0m\n\u001b[0;32m-> 5487\u001b[0;31m         \u001b[0;32mreturn\u001b[0m \u001b[0mobject\u001b[0m\u001b[0;34m.\u001b[0m\u001b[0m__getattribute__\u001b[0m\u001b[0;34m(\u001b[0m\u001b[0mself\u001b[0m\u001b[0;34m,\u001b[0m \u001b[0mname\u001b[0m\u001b[0;34m)\u001b[0m\u001b[0;34m\u001b[0m\u001b[0;34m\u001b[0m\u001b[0m\n\u001b[0m\u001b[1;32m   5488\u001b[0m \u001b[0;34m\u001b[0m\u001b[0m\n\u001b[1;32m   5489\u001b[0m     \u001b[0;32mdef\u001b[0m \u001b[0m__setattr__\u001b[0m\u001b[0;34m(\u001b[0m\u001b[0mself\u001b[0m\u001b[0;34m,\u001b[0m \u001b[0mname\u001b[0m\u001b[0;34m:\u001b[0m \u001b[0mstr\u001b[0m\u001b[0;34m,\u001b[0m \u001b[0mvalue\u001b[0m\u001b[0;34m)\u001b[0m \u001b[0;34m->\u001b[0m \u001b[0;32mNone\u001b[0m\u001b[0;34m:\u001b[0m\u001b[0;34m\u001b[0m\u001b[0;34m\u001b[0m\u001b[0m\n",
      "\u001b[0;31mAttributeError\u001b[0m: 'DataFrame' object has no attribute 'is_coastal_horizontal'"
     ]
    }
   ],
   "source": [
    "# Set alpha\n",
    "alpha = .05\n",
    "# Run test\n",
    "t, p = stats.mannwhitneyu(df[df.is_coastal_horizontal]['Prediction.Error'], \n",
    "                          df[df.is_coastal_horizontal == False]['Prediction.Error'],\n",
    "                          alternative='greater')\n",
    "\n",
    "# Print findings\n",
    "if p < alpha:\n",
    "    print(\"We reject the null hypothesis.\")\n",
    "else:\n",
    "    print(\"We accept the null hypothesis.\")"
   ]
  },
  {
   "cell_type": "markdown",
   "id": "b69e1799",
   "metadata": {},
   "source": [
    "Let's run the correlation heatmap again with the new is_coastal feature."
   ]
  },
  {
   "cell_type": "code",
   "execution_count": null,
   "id": "3467a89c",
   "metadata": {},
   "outputs": [],
   "source": [
    "plt.figure(figsize=(12,7))\n",
    "sns.heatmap(df.corr(), cmap='coolwarm_r', vmin=-1, vmax=1, annot=True)"
   ]
  },
  {
   "cell_type": "code",
   "execution_count": null,
   "id": "5a38a58c",
   "metadata": {},
   "outputs": [],
   "source": [
    "df['is_coastal'] = df['is_coastal_vertical'] & df['is_coastal_horizontal']\n",
    "df.head(3)"
   ]
  },
  {
   "cell_type": "code",
   "execution_count": null,
   "id": "e6755362",
   "metadata": {},
   "outputs": [],
   "source": [
    "df.is_coastal.mean()"
   ]
  },
  {
   "cell_type": "code",
   "execution_count": null,
   "id": "24de54f4",
   "metadata": {},
   "outputs": [],
   "source": [
    "q1, q3 = df['Prediction.Error'].quantile([0.25, 0.75])\n",
    "mask = (df['Prediction.Error'] > q1) & (df['Prediction.Error'] < q3)\n",
    "sns.boxplot(df[mask]['is_coastal'], df[mask]['Prediction.Error'])"
   ]
  },
  {
   "cell_type": "code",
   "execution_count": null,
   "id": "ce897e23",
   "metadata": {},
   "outputs": [],
   "source": [
    "plt.figure(figsize=(12,7))\n",
    "sns.heatmap(df.corr(), cmap='coolwarm_r', vmin=-1, vmax=1, annot=True)"
   ]
  },
  {
   "cell_type": "code",
   "execution_count": null,
   "id": "3652c722",
   "metadata": {},
   "outputs": [],
   "source": [
    "sns.scatterplot(df[df.is_coastal].Longitude, df[df.is_coastal].Latitude)"
   ]
  },
  {
   "cell_type": "code",
   "execution_count": null,
   "id": "9c124c9c",
   "metadata": {},
   "outputs": [],
   "source": []
  }
 ],
 "metadata": {
  "kernelspec": {
   "display_name": "Python 3 (ipykernel)",
   "language": "python",
   "name": "python3"
  },
  "language_info": {
   "codemirror_mode": {
    "name": "ipython",
    "version": 3
   },
   "file_extension": ".py",
   "mimetype": "text/x-python",
   "name": "python",
   "nbconvert_exporter": "python",
   "pygments_lexer": "ipython3",
   "version": "3.8.8"
  }
 },
 "nbformat": 4,
 "nbformat_minor": 5
}
